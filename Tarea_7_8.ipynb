{
  "nbformat": 4,
  "nbformat_minor": 0,
  "metadata": {
    "colab": {
      "provenance": []
    },
    "kernelspec": {
      "name": "python3",
      "display_name": "Python 3"
    },
    "language_info": {
      "name": "python"
    }
  },
  "cells": [
    {
      "cell_type": "code",
      "execution_count": 4,
      "metadata": {
        "colab": {
          "base_uri": "https://localhost:8080/"
        },
        "id": "TJQ1lcq3CiZk",
        "outputId": "f5915548-4f34-4fc7-c889-d2e06769000c"
      },
      "outputs": [
        {
          "output_type": "stream",
          "name": "stdout",
          "text": [
            "fatal: destination path 'free-spoken-digit-dataset' already exists and is not an empty directory.\n"
          ]
        }
      ],
      "source": [
        "#datos\n",
        "!git clone https://github.com/Jakobovski/free-spoken-digit-dataset.git\n",
        "\n",
        "\n",
        "import os\n",
        "import numpy as np\n",
        "import librosa\n",
        "import matplotlib.pyplot as plt\n",
        "\n",
        "\n",
        "import tensorflow as tf\n",
        "from sklearn.model_selection import train_test_split"
      ]
    },
    {
      "cell_type": "code",
      "source": [
        "!pip install PyWavelets\n"
      ],
      "metadata": {
        "colab": {
          "base_uri": "https://localhost:8080/"
        },
        "id": "G-7BAciUDFz9",
        "outputId": "590a4347-b516-4656-93ab-46587b53a1ca"
      },
      "execution_count": 9,
      "outputs": [
        {
          "output_type": "stream",
          "name": "stdout",
          "text": [
            "Collecting PyWavelets\n",
            "  Downloading pywavelets-1.8.0-cp311-cp311-manylinux_2_17_x86_64.manylinux2014_x86_64.whl.metadata (9.0 kB)\n",
            "Requirement already satisfied: numpy<3,>=1.23 in /usr/local/lib/python3.11/dist-packages (from PyWavelets) (2.0.2)\n",
            "Downloading pywavelets-1.8.0-cp311-cp311-manylinux_2_17_x86_64.manylinux2014_x86_64.whl (4.5 MB)\n",
            "\u001b[?25l   \u001b[90m━━━━━━━━━━━━━━━━━━━━━━━━━━━━━━━━━━━━━━━━\u001b[0m \u001b[32m0.0/4.5 MB\u001b[0m \u001b[31m?\u001b[0m eta \u001b[36m-:--:--\u001b[0m\r\u001b[2K   \u001b[91m━━━━━━━━━━━━━━━\u001b[0m\u001b[91m╸\u001b[0m\u001b[90m━━━━━━━━━━━━━━━━━━━━━━━━\u001b[0m \u001b[32m1.8/4.5 MB\u001b[0m \u001b[31m53.6 MB/s\u001b[0m eta \u001b[36m0:00:01\u001b[0m\r\u001b[2K   \u001b[91m━━━━━━━━━━━━━━━━━━━━━━━━━━━━━━━━━━━━━━━\u001b[0m\u001b[91m╸\u001b[0m \u001b[32m4.5/4.5 MB\u001b[0m \u001b[31m85.2 MB/s\u001b[0m eta \u001b[36m0:00:01\u001b[0m\r\u001b[2K   \u001b[90m━━━━━━━━━━━━━━━━━━━━━━━━━━━━━━━━━━━━━━━━\u001b[0m \u001b[32m4.5/4.5 MB\u001b[0m \u001b[31m58.5 MB/s\u001b[0m eta \u001b[36m0:00:00\u001b[0m\n",
            "\u001b[?25hInstalling collected packages: PyWavelets\n",
            "Successfully installed PyWavelets-1.8.0\n"
          ]
        }
      ]
    },
    {
      "cell_type": "code",
      "source": [
        "import pywt\n"
      ],
      "metadata": {
        "id": "_BrNsjZ-DGmI"
      },
      "execution_count": 10,
      "outputs": []
    },
    {
      "cell_type": "markdown",
      "source": [
        "Procesamiento de datos"
      ],
      "metadata": {
        "id": "ILIDHN1XC3iC"
      }
    },
    {
      "cell_type": "markdown",
      "source": [
        "Se implementó un sistema de clasificación de audio basado en transformada wavelet y redes neuronales profundas.\n",
        "\n",
        "El modelo toma grabaciones de voz de dígitos (0 al 9) y aprende a reconocerlos usando representaciones tiempo-frecuencia.\n",
        "\n",
        "Se usó el dataset Free Spoken Digit Dataset (FSDD) que contiene audios en formato .wav de diferentes hablantes.\n",
        "\n"
      ],
      "metadata": {
        "id": "CBe8LEZ6Ehfx"
      }
    },
    {
      "cell_type": "code",
      "source": [],
      "metadata": {
        "id": "BIjg9v98EpnC"
      },
      "execution_count": null,
      "outputs": []
    },
    {
      "cell_type": "markdown",
      "source": [
        "Preprocesamiento:\n",
        "\n",
        "Conversión de señales de audio a 8,000 Hz.\n",
        "\n",
        "Aplicación de pywt.cwt() para obtener coeficientes de wavelet.\n",
        "\n",
        "Reducción de tamaño de los coeficientes a 128x128 para normalización.\n",
        "\n",
        "Etiquetado: Se extrajo el dígito hablado desde el nombre del archivo.\n",
        "\n",
        "Entrenamiento del modelo:\n",
        "\n",
        "CNN con 2 capas convolucionales + MaxPooling + capas densas.\n",
        "\n",
        "Función de pérdida: sparse_categorical_crossentropy.\n",
        "\n",
        "Optimización con Adam.\n",
        "\n",
        "Evaluación: Se usó un 20% de los datos para prueba y validación.\n",
        "\n"
      ],
      "metadata": {
        "id": "fq1WOxvtEsM6"
      }
    },
    {
      "cell_type": "code",
      "source": [
        "\n",
        "\n",
        "data_dir = '/content/free-spoken-digit-dataset/recordings'\n",
        "X = []\n",
        "y = []\n",
        "\n",
        "#espectrograma tipo wavelet\n",
        "for filename in os.listdir(data_dir):\n",
        "    if filename.endswith('.wav'):\n",
        "        path = os.path.join(data_dir, filename)\n",
        "        signal, sr = librosa.load(path, sr=8000)\n",
        "\n",
        "        # Transformada Wavelet\n",
        "        scales = np.arange(1, 128)\n",
        "        coef, xs = pywt.cwt(signal, scales, 'morl', sampling_period=1/sr)\n",
        "        coef = np.abs(coef)\n",
        "\n",
        "        # Redimensionar\n",
        "        coef_resized = np.resize(coef, (128, 128))\n",
        "\n",
        "        X.append(coef_resized)\n",
        "        y.append(int(filename[0]))\n",
        "\n",
        "X = np.array(X)\n",
        "y = np.array(y)\n",
        "X = X[..., np.newaxis]\n"
      ],
      "metadata": {
        "id": "pyozLKUhCo6z"
      },
      "execution_count": 11,
      "outputs": []
    },
    {
      "cell_type": "code",
      "source": [
        "\n",
        "# Separar en train/test\n",
        "X_train, X_test, y_train, y_test = train_test_split(X, y, test_size=0.2, random_state=42)\n",
        "\n",
        "# Modelo simple CNN\n",
        "model = tf.keras.Sequential([\n",
        "    tf.keras.layers.Conv2D(32, (3,3), activation='relu', input_shape=(128,128,1)),\n",
        "    tf.keras.layers.MaxPooling2D(2,2),\n",
        "    tf.keras.layers.Conv2D(64, (3,3), activation='relu'),\n",
        "    tf.keras.layers.MaxPooling2D(2,2),\n",
        "    tf.keras.layers.Flatten(),\n",
        "    tf.keras.layers.Dense(128, activation='relu'),\n",
        "    tf.keras.layers.Dense(10, activation='softmax')\n",
        "])\n",
        "\n",
        "model.compile(optimizer='adam',\n",
        "              loss='sparse_categorical_crossentropy',\n",
        "              metrics=['accuracy'])\n",
        "\n",
        "# Entrenamiento\n",
        "model.fit(X_train, y_train, epochs=15, validation_data=(X_test, y_test))\n"
      ],
      "metadata": {
        "colab": {
          "base_uri": "https://localhost:8080/"
        },
        "id": "bHl0TQJLC-Px",
        "outputId": "c43be8ab-d6e8-4c5d-b906-510ac3f63380"
      },
      "execution_count": 12,
      "outputs": [
        {
          "output_type": "stream",
          "name": "stderr",
          "text": [
            "/usr/local/lib/python3.11/dist-packages/keras/src/layers/convolutional/base_conv.py:107: UserWarning: Do not pass an `input_shape`/`input_dim` argument to a layer. When using Sequential models, prefer using an `Input(shape)` object as the first layer in the model instead.\n",
            "  super().__init__(activity_regularizer=activity_regularizer, **kwargs)\n"
          ]
        },
        {
          "output_type": "stream",
          "name": "stdout",
          "text": [
            "Epoch 1/15\n",
            "\u001b[1m75/75\u001b[0m \u001b[32m━━━━━━━━━━━━━━━━━━━━\u001b[0m\u001b[37m\u001b[0m \u001b[1m61s\u001b[0m 774ms/step - accuracy: 0.1658 - loss: 2.2056 - val_accuracy: 0.2617 - val_loss: 1.9848\n",
            "Epoch 2/15\n",
            "\u001b[1m75/75\u001b[0m \u001b[32m━━━━━━━━━━━━━━━━━━━━\u001b[0m\u001b[37m\u001b[0m \u001b[1m82s\u001b[0m 784ms/step - accuracy: 0.2992 - loss: 1.9373 - val_accuracy: 0.3533 - val_loss: 1.8247\n",
            "Epoch 3/15\n",
            "\u001b[1m75/75\u001b[0m \u001b[32m━━━━━━━━━━━━━━━━━━━━\u001b[0m\u001b[37m\u001b[0m \u001b[1m81s\u001b[0m 776ms/step - accuracy: 0.4116 - loss: 1.6653 - val_accuracy: 0.4183 - val_loss: 1.6874\n",
            "Epoch 4/15\n",
            "\u001b[1m75/75\u001b[0m \u001b[32m━━━━━━━━━━━━━━━━━━━━\u001b[0m\u001b[37m\u001b[0m \u001b[1m88s\u001b[0m 859ms/step - accuracy: 0.5301 - loss: 1.3916 - val_accuracy: 0.4633 - val_loss: 1.6291\n",
            "Epoch 5/15\n",
            "\u001b[1m75/75\u001b[0m \u001b[32m━━━━━━━━━━━━━━━━━━━━\u001b[0m\u001b[37m\u001b[0m \u001b[1m75s\u001b[0m 768ms/step - accuracy: 0.6104 - loss: 1.1148 - val_accuracy: 0.5000 - val_loss: 1.5417\n",
            "Epoch 6/15\n",
            "\u001b[1m75/75\u001b[0m \u001b[32m━━━━━━━━━━━━━━━━━━━━\u001b[0m\u001b[37m\u001b[0m \u001b[1m58s\u001b[0m 768ms/step - accuracy: 0.6896 - loss: 0.9032 - val_accuracy: 0.5717 - val_loss: 1.3785\n",
            "Epoch 7/15\n",
            "\u001b[1m75/75\u001b[0m \u001b[32m━━━━━━━━━━━━━━━━━━━━\u001b[0m\u001b[37m\u001b[0m \u001b[1m81s\u001b[0m 766ms/step - accuracy: 0.7622 - loss: 0.7107 - val_accuracy: 0.5583 - val_loss: 1.4835\n",
            "Epoch 8/15\n",
            "\u001b[1m75/75\u001b[0m \u001b[32m━━━━━━━━━━━━━━━━━━━━\u001b[0m\u001b[37m\u001b[0m \u001b[1m80s\u001b[0m 738ms/step - accuracy: 0.7954 - loss: 0.6221 - val_accuracy: 0.5750 - val_loss: 1.5488\n",
            "Epoch 9/15\n",
            "\u001b[1m75/75\u001b[0m \u001b[32m━━━━━━━━━━━━━━━━━━━━\u001b[0m\u001b[37m\u001b[0m \u001b[1m55s\u001b[0m 737ms/step - accuracy: 0.8355 - loss: 0.5201 - val_accuracy: 0.6067 - val_loss: 1.6688\n",
            "Epoch 10/15\n",
            "\u001b[1m75/75\u001b[0m \u001b[32m━━━━━━━━━━━━━━━━━━━━\u001b[0m\u001b[37m\u001b[0m \u001b[1m61s\u001b[0m 814ms/step - accuracy: 0.8679 - loss: 0.4285 - val_accuracy: 0.6450 - val_loss: 1.6752\n",
            "Epoch 11/15\n",
            "\u001b[1m75/75\u001b[0m \u001b[32m━━━━━━━━━━━━━━━━━━━━\u001b[0m\u001b[37m\u001b[0m \u001b[1m78s\u001b[0m 756ms/step - accuracy: 0.8927 - loss: 0.3372 - val_accuracy: 0.5567 - val_loss: 2.4041\n",
            "Epoch 12/15\n",
            "\u001b[1m75/75\u001b[0m \u001b[32m━━━━━━━━━━━━━━━━━━━━\u001b[0m\u001b[37m\u001b[0m \u001b[1m80s\u001b[0m 738ms/step - accuracy: 0.8766 - loss: 0.4112 - val_accuracy: 0.6317 - val_loss: 1.9041\n",
            "Epoch 13/15\n",
            "\u001b[1m75/75\u001b[0m \u001b[32m━━━━━━━━━━━━━━━━━━━━\u001b[0m\u001b[37m\u001b[0m \u001b[1m83s\u001b[0m 757ms/step - accuracy: 0.9064 - loss: 0.3296 - val_accuracy: 0.6033 - val_loss: 2.0250\n",
            "Epoch 14/15\n",
            "\u001b[1m75/75\u001b[0m \u001b[32m━━━━━━━━━━━━━━━━━━━━\u001b[0m\u001b[37m\u001b[0m \u001b[1m81s\u001b[0m 741ms/step - accuracy: 0.9410 - loss: 0.2262 - val_accuracy: 0.6550 - val_loss: 1.9775\n",
            "Epoch 15/15\n",
            "\u001b[1m75/75\u001b[0m \u001b[32m━━━━━━━━━━━━━━━━━━━━\u001b[0m\u001b[37m\u001b[0m \u001b[1m84s\u001b[0m 766ms/step - accuracy: 0.9541 - loss: 0.1734 - val_accuracy: 0.6167 - val_loss: 2.2366\n"
          ]
        },
        {
          "output_type": "execute_result",
          "data": {
            "text/plain": [
              "<keras.src.callbacks.history.History at 0x7b954e5fda10>"
            ]
          },
          "metadata": {},
          "execution_count": 12
        }
      ]
    },
    {
      "cell_type": "code",
      "source": [
        "loss, acc = model.evaluate(X_test, y_test)\n",
        "print(f\"Precisión del modelo: {acc*100:.2f}%\")\n"
      ],
      "metadata": {
        "colab": {
          "base_uri": "https://localhost:8080/"
        },
        "id": "AF1cZHlCDAHb",
        "outputId": "53b40e5d-b54d-4e98-d57d-7b57610d0348"
      },
      "execution_count": 13,
      "outputs": [
        {
          "output_type": "stream",
          "name": "stdout",
          "text": [
            "\u001b[1m19/19\u001b[0m \u001b[32m━━━━━━━━━━━━━━━━━━━━\u001b[0m\u001b[37m\u001b[0m \u001b[1m3s\u001b[0m 169ms/step - accuracy: 0.6085 - loss: 2.4920\n",
            "Precisión del modelo: 61.67%\n"
          ]
        }
      ]
    },
    {
      "cell_type": "markdown",
      "source": [
        "El modelo logró una precisión entre 62% en el conjunto de prueba.\n",
        "\n",
        "La CNN fue capaz de extraer características espaciales relevantes sin embargo no tiene la mejor presión."
      ],
      "metadata": {
        "id": "LEyfXohpJknz"
      }
    }
  ]
}